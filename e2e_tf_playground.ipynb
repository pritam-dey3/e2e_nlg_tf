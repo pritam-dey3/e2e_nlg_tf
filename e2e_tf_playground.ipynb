{
 "metadata": {
  "language_info": {
   "codemirror_mode": {
    "name": "ipython",
    "version": 3
   },
   "file_extension": ".py",
   "mimetype": "text/x-python",
   "name": "python",
   "nbconvert_exporter": "python",
   "pygments_lexer": "ipython3",
   "version": "3.8.6-final"
  },
  "orig_nbformat": 2,
  "kernelspec": {
   "name": "python_defaultSpec_1601657523514",
   "display_name": "Python 3.8.6 64-bit"
  }
 },
 "nbformat": 4,
 "nbformat_minor": 2,
 "cells": [
  {
   "cell_type": "code",
   "execution_count": 1,
   "metadata": {},
   "outputs": [],
   "source": [
    "import numpy as np\n",
    "import pandas as pd\n",
    "import tensorflow as tf\n",
    "from tensorflow import keras\n",
    "\n",
    "import re\n",
    "from matplotlib import pyplot as plt\n"
   ]
  },
  {
   "cell_type": "code",
   "execution_count": 10,
   "metadata": {},
   "outputs": [
    {
     "output_type": "execute_result",
     "data": {
      "text/plain": "                                                  mr  \\\n0  name[The Eagle], eatType[coffee shop], food[Ja...   \n1  name[The Mill], eatType[coffee shop], food[Fre...   \n2  name[Loch Fyne], food[French], area[riverside]...   \n3  name[The Rice Boat], eatType[restaurant], food...   \n4  name[The Wrestlers], eatType[coffee shop], foo...   \n\n                                                 ref  fixed  \\\n0  The Eagle is a low rated coffee shop near Burg...      0   \n1  Located near The Sorrento is a French Theme ea...      1   \n2  For luxurious French food, the Loch Fyne is lo...      1   \n3  The Rice Boat is an adult French restaurant wi...      1   \n4  The Wrestlers coffee shop serves Japanese food...      0   \n\n                                             orig_mr  \n0  name[The Eagle], eatType[coffee shop], food[Ja...  \n1  name[The Mill], eatType[coffee shop], food[Fre...  \n2  name[Loch Fyne], food[French], customer rating...  \n3  name[The Rice Boat], food[French], customer ra...  \n4  name[The Wrestlers], eatType[coffee shop], foo...  ",
      "text/html": "<div>\n<style scoped>\n    .dataframe tbody tr th:only-of-type {\n        vertical-align: middle;\n    }\n\n    .dataframe tbody tr th {\n        vertical-align: top;\n    }\n\n    .dataframe thead th {\n        text-align: right;\n    }\n</style>\n<table border=\"1\" class=\"dataframe\">\n  <thead>\n    <tr style=\"text-align: right;\">\n      <th></th>\n      <th>mr</th>\n      <th>ref</th>\n      <th>fixed</th>\n      <th>orig_mr</th>\n    </tr>\n  </thead>\n  <tbody>\n    <tr>\n      <th>0</th>\n      <td>name[The Eagle], eatType[coffee shop], food[Ja...</td>\n      <td>The Eagle is a low rated coffee shop near Burg...</td>\n      <td>0</td>\n      <td>name[The Eagle], eatType[coffee shop], food[Ja...</td>\n    </tr>\n    <tr>\n      <th>1</th>\n      <td>name[The Mill], eatType[coffee shop], food[Fre...</td>\n      <td>Located near The Sorrento is a French Theme ea...</td>\n      <td>1</td>\n      <td>name[The Mill], eatType[coffee shop], food[Fre...</td>\n    </tr>\n    <tr>\n      <th>2</th>\n      <td>name[Loch Fyne], food[French], area[riverside]...</td>\n      <td>For luxurious French food, the Loch Fyne is lo...</td>\n      <td>1</td>\n      <td>name[Loch Fyne], food[French], customer rating...</td>\n    </tr>\n    <tr>\n      <th>3</th>\n      <td>name[The Rice Boat], eatType[restaurant], food...</td>\n      <td>The Rice Boat is an adult French restaurant wi...</td>\n      <td>1</td>\n      <td>name[The Rice Boat], food[French], customer ra...</td>\n    </tr>\n    <tr>\n      <th>4</th>\n      <td>name[The Wrestlers], eatType[coffee shop], foo...</td>\n      <td>The Wrestlers coffee shop serves Japanese food...</td>\n      <td>0</td>\n      <td>name[The Wrestlers], eatType[coffee shop], foo...</td>\n    </tr>\n  </tbody>\n</table>\n</div>"
     },
     "metadata": {},
     "execution_count": 10
    }
   ],
   "source": [
    "df = pd.read_csv('cleaned-data/train-fixed.no-ol.csv')\n",
    "df.head()"
   ]
  },
  {
   "cell_type": "code",
   "execution_count": 11,
   "metadata": {},
   "outputs": [],
   "source": [
    "train_data = tf.data.experimental.CsvDataset(filenames='cleaned-data/train-fixed.no-ol.csv', \n",
    "                                record_defaults=[tf.string, tf.string],\n",
    "                                header=True,\n",
    "                                select_cols=[0, 1])"
   ]
  },
  {
   "cell_type": "code",
   "execution_count": 12,
   "metadata": {
    "tags": []
   },
   "outputs": [
    {
     "output_type": "stream",
     "name": "stdout",
     "text": "(<tf.Tensor: shape=(), dtype=string, numpy=b'name[The Eagle], eatType[coffee shop], food[Japanese], priceRange[less than \\xc2\\xa320], customer rating[low], area[riverside], familyFriendly[yes], near[Burger King]'>, <tf.Tensor: shape=(), dtype=string, numpy=b'The Eagle is a low rated coffee shop near Burger King and the riverside that is family friendly and is less than \\xc2\\xa320 for Japanese food.'>)\n(<tf.Tensor: shape=(), dtype=string, numpy=b'name[The Mill], eatType[coffee shop], food[French], area[riverside], near[The Sorrento]'>, <tf.Tensor: shape=(), dtype=string, numpy=b'Located near The Sorrento is a French Theme eatery and coffee shop called The Mill, with a price range at \\xc2\\xa320-\\xc2\\xa325 it is in the riverside area.'>)\n"
    }
   ],
   "source": [
    "for i, d in enumerate(train_data):\n",
    "    if i > 1:\n",
    "        break\n",
    "    print(d)"
   ]
  },
  {
   "cell_type": "code",
   "execution_count": 13,
   "metadata": {},
   "outputs": [
    {
     "output_type": "execute_result",
     "data": {
      "text/plain": "12"
     },
     "metadata": {},
     "execution_count": 13
    }
   ],
   "source": [
    "from transformers import AutoTokenizer, AutoModelWithLMHead\n",
    "\n",
    "tokenizer = AutoTokenizer.from_pretrained(\"t5-small\")\n",
    "\n",
    "special_tokens = {'additional_special_tokens': ['<area>', '<eatType>', '<food>', '<near>',                                                      '<name>', '<customer rating>', '<priceRange>',                                                   '<familyFriendly>', '<notfamilyFriendly>',                                                       '<cr_slot>', '<pr_slot>', '<sos>']}\n",
    "tokenizer.add_special_tokens(special_tokens)"
   ]
  },
  {
   "cell_type": "code",
   "execution_count": 2,
   "metadata": {},
   "outputs": [
    {
     "output_type": "execute_result",
     "data": {
      "text/plain": "TensorShape([64, 36, 8000])"
     },
     "metadata": {},
     "execution_count": 2
    }
   ],
   "source": [
    "from transformers.transformer import Transformer\n",
    "\n",
    "sample_transformer = Transformer(\n",
    "    num_layers=2, d_model=512, num_heads=8, dff=2048, \n",
    "    input_vocab_size=8500, target_vocab_size=8000, \n",
    "    pe_input=10000, pe_target=6000)\n",
    "\n",
    "temp_input = tf.random.uniform((64, 38), dtype=tf.int64, minval=0, maxval=200)\n",
    "temp_target = tf.random.uniform((64, 36), dtype=tf.int64, minval=0, maxval=200)\n",
    "\n",
    "fn_out, _ = sample_transformer(temp_input, temp_target, training=False, \n",
    "                               enc_padding_mask=None, \n",
    "                               look_ahead_mask=None,\n",
    "                               dec_padding_mask=None)\n",
    "\n",
    "fn_out.shape  # (batch_size, tar_seq_len, target_vocab_size)"
   ]
  },
  {
   "cell_type": "code",
   "execution_count": null,
   "metadata": {},
   "outputs": [],
   "source": []
  }
 ]
}