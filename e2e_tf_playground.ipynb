{
 "metadata": {
  "language_info": {
   "codemirror_mode": {
    "name": "ipython",
    "version": 3
   },
   "file_extension": ".py",
   "mimetype": "text/x-python",
   "name": "python",
   "nbconvert_exporter": "python",
   "pygments_lexer": "ipython3",
   "version": "3.8.6-final"
  },
  "orig_nbformat": 2,
  "kernelspec": {
   "name": "python_defaultSpec_1601991500775",
   "display_name": "Python 3.8.6 64-bit"
  }
 },
 "nbformat": 4,
 "nbformat_minor": 2,
 "cells": [
  {
   "cell_type": "code",
   "execution_count": 1,
   "metadata": {},
   "outputs": [],
   "source": [
    "import numpy as np\n",
    "import pandas as pd\n",
    "import tensorflow as tf\n",
    "from tensorflow import keras\n",
    "\n",
    "import re\n",
    "from matplotlib import pyplot as plt\n"
   ]
  },
  {
   "cell_type": "code",
   "execution_count": 2,
   "metadata": {},
   "outputs": [
    {
     "output_type": "execute_result",
     "data": {
      "text/plain": "                                                  mr  \\\n0  name[The Eagle], eatType[coffee shop], food[Ja...   \n1  name[The Mill], eatType[coffee shop], food[Fre...   \n2  name[Loch Fyne], food[French], area[riverside]...   \n3  name[The Rice Boat], eatType[restaurant], food...   \n4  name[The Wrestlers], eatType[coffee shop], foo...   \n\n                                                 ref  fixed  \\\n0  The Eagle is a low rated coffee shop near Burg...      0   \n1  Located near The Sorrento is a French Theme ea...      1   \n2  For luxurious French food, the Loch Fyne is lo...      1   \n3  The Rice Boat is an adult French restaurant wi...      1   \n4  The Wrestlers coffee shop serves Japanese food...      0   \n\n                                             orig_mr  \n0  name[The Eagle], eatType[coffee shop], food[Ja...  \n1  name[The Mill], eatType[coffee shop], food[Fre...  \n2  name[Loch Fyne], food[French], customer rating...  \n3  name[The Rice Boat], food[French], customer ra...  \n4  name[The Wrestlers], eatType[coffee shop], foo...  ",
      "text/html": "<div>\n<style scoped>\n    .dataframe tbody tr th:only-of-type {\n        vertical-align: middle;\n    }\n\n    .dataframe tbody tr th {\n        vertical-align: top;\n    }\n\n    .dataframe thead th {\n        text-align: right;\n    }\n</style>\n<table border=\"1\" class=\"dataframe\">\n  <thead>\n    <tr style=\"text-align: right;\">\n      <th></th>\n      <th>mr</th>\n      <th>ref</th>\n      <th>fixed</th>\n      <th>orig_mr</th>\n    </tr>\n  </thead>\n  <tbody>\n    <tr>\n      <th>0</th>\n      <td>name[The Eagle], eatType[coffee shop], food[Ja...</td>\n      <td>The Eagle is a low rated coffee shop near Burg...</td>\n      <td>0</td>\n      <td>name[The Eagle], eatType[coffee shop], food[Ja...</td>\n    </tr>\n    <tr>\n      <th>1</th>\n      <td>name[The Mill], eatType[coffee shop], food[Fre...</td>\n      <td>Located near The Sorrento is a French Theme ea...</td>\n      <td>1</td>\n      <td>name[The Mill], eatType[coffee shop], food[Fre...</td>\n    </tr>\n    <tr>\n      <th>2</th>\n      <td>name[Loch Fyne], food[French], area[riverside]...</td>\n      <td>For luxurious French food, the Loch Fyne is lo...</td>\n      <td>1</td>\n      <td>name[Loch Fyne], food[French], customer rating...</td>\n    </tr>\n    <tr>\n      <th>3</th>\n      <td>name[The Rice Boat], eatType[restaurant], food...</td>\n      <td>The Rice Boat is an adult French restaurant wi...</td>\n      <td>1</td>\n      <td>name[The Rice Boat], food[French], customer ra...</td>\n    </tr>\n    <tr>\n      <th>4</th>\n      <td>name[The Wrestlers], eatType[coffee shop], foo...</td>\n      <td>The Wrestlers coffee shop serves Japanese food...</td>\n      <td>0</td>\n      <td>name[The Wrestlers], eatType[coffee shop], foo...</td>\n    </tr>\n  </tbody>\n</table>\n</div>"
     },
     "metadata": {},
     "execution_count": 2
    }
   ],
   "source": [
    "df = pd.read_csv('cleaned-data/train-fixed.no-ol.csv')\n",
    "df.head()"
   ]
  },
  {
   "cell_type": "code",
   "execution_count": 3,
   "metadata": {},
   "outputs": [],
   "source": [
    "train_data = tf.data.experimental.CsvDataset(filenames='cleaned-data/train-fixed.no-ol.csv', \n",
    "                                record_defaults=[tf.string, tf.string],\n",
    "                                header=True,\n",
    "                                select_cols=[0, 1])"
   ]
  },
  {
   "cell_type": "code",
   "execution_count": 4,
   "metadata": {
    "tags": []
   },
   "outputs": [
    {
     "output_type": "stream",
     "name": "stdout",
     "text": "(<tf.Tensor: shape=(), dtype=string, numpy=b'name[The Eagle], eatType[coffee shop], food[Japanese], priceRange[less than \\xc2\\xa320], customer rating[low], area[riverside], familyFriendly[yes], near[Burger King]'>, <tf.Tensor: shape=(), dtype=string, numpy=b'The Eagle is a low rated coffee shop near Burger King and the riverside that is family friendly and is less than \\xc2\\xa320 for Japanese food.'>)\n(<tf.Tensor: shape=(), dtype=string, numpy=b'name[The Mill], eatType[coffee shop], food[French], area[riverside], near[The Sorrento]'>, <tf.Tensor: shape=(), dtype=string, numpy=b'Located near The Sorrento is a French Theme eatery and coffee shop called The Mill, with a price range at \\xc2\\xa320-\\xc2\\xa325 it is in the riverside area.'>)\n"
    }
   ],
   "source": [
    "for i, d in enumerate(train_data):\n",
    "    if i > 1:\n",
    "        break\n",
    "    print(d)"
   ]
  },
  {
   "cell_type": "code",
   "execution_count": 5,
   "metadata": {},
   "outputs": [
    {
     "output_type": "execute_result",
     "data": {
      "text/plain": "12"
     },
     "metadata": {},
     "execution_count": 5
    }
   ],
   "source": [
    "from transformers import AutoTokenizer, AutoModelWithLMHead\n",
    "\n",
    "tokenizer = AutoTokenizer.from_pretrained(\"t5-small\")\n",
    "\n",
    "special_tokens = {'additional_special_tokens': ['<area>', '<eatType>', '<food>', '<near>',                                                      '<name>', '<customer rating>', '<priceRange>',                                                   '<familyFriendly>', '<notfamilyFriendly>',                                                       '<cr_slot>', '<pr_slot>', '<sos>']}\n",
    "tokenizer.add_special_tokens(special_tokens)"
   ]
  },
  {
   "cell_type": "code",
   "execution_count": 6,
   "metadata": {},
   "outputs": [
    {
     "output_type": "execute_result",
     "data": {
      "text/plain": "32112"
     },
     "metadata": {},
     "execution_count": 6
    }
   ],
   "source": [
    "len(tokenizer)"
   ]
  },
  {
   "cell_type": "code",
   "execution_count": 6,
   "metadata": {},
   "outputs": [
    {
     "output_type": "execute_result",
     "data": {
      "text/plain": "TensorShape([64, 36, 8000])"
     },
     "metadata": {},
     "execution_count": 6
    }
   ],
   "source": [
    "from e2e_transformers.model import E2ETransformer\n",
    "\n",
    "sample_transformer = E2ETransformer(\n",
    "    num_enc_layers=2, num_dec_layers=2, d_model=512, num_heads=8, dff=2048, \n",
    "    input_vocab_size=8500, target_vocab_size=8000, \n",
    "    pe_input=10000, pe_target=6000)\n",
    "\n",
    "temp_input = tf.random.uniform((64, 38), dtype=tf.int64, minval=0, maxval=200)\n",
    "temp_target = tf.random.uniform((64, 36), dtype=tf.int64, minval=0, maxval=200)\n",
    "\n",
    "fn_out, _ = sample_transformer(temp_input, temp_input, temp_target, training=False, \n",
    "                               enc_padding_mask=None, \n",
    "                               look_ahead_mask=None,\n",
    "                               dec_padding_mask=None)\n",
    "\n",
    "fn_out.shape  # (batch_size, tar_seq_len, target_vocab_size)"
   ]
  },
  {
   "cell_type": "code",
   "execution_count": null,
   "metadata": {},
   "outputs": [],
   "source": []
  },
  {
   "cell_type": "code",
   "execution_count": 54,
   "metadata": {
    "tags": []
   },
   "outputs": [
    {
     "output_type": "stream",
     "name": "stdout",
     "text": "tf.Tensor(\n[[[2. 2. 2. 2.]\n  [2. 2. 2. 2.]\n  [1. 1. 1. 1.]\n  [1. 1. 1. 1.]]\n\n [[2. 2. 2. 2.]\n  [2. 2. 2. 2.]\n  [2. 2. 2. 2.]\n  [1. 1. 1. 1.]]\n\n [[2. 2. 2. 2.]\n  [1. 1. 1. 1.]\n  [1. 1. 1. 1.]\n  [1. 1. 1. 1.]]], shape=(3, 4, 4), dtype=float32)\n"
    }
   ],
   "source": [
    "def p(x):\n",
    "    seq = tf.cast(tf.logical_not(tf.math.equal(x, 0)), tf.float32)\n",
    "    return seq[:, :, tf.newaxis]\n",
    "\n",
    "a = tf.constant([[1, 2, 0, 0], [1, 2, 9, 0],[1, 0, 0, 0]])\n",
    "b = tf.constant([[6, 5, 3, 8], [6, 5, 3, 8], [6, 5, 3, 8]])\n",
    "init = tf.keras.initializers.Constant(tf.ones((10, 4), tf.float32))\n",
    "emb = tf.keras.layers.Embedding(10, 4, embeddings_initializer=init)\n",
    "\n",
    "print(emb(b) + tf.multiply(emb(a), p(a)))"
   ]
  },
  {
   "cell_type": "code",
   "execution_count": 51,
   "metadata": {
    "tags": []
   },
   "outputs": [
    {
     "output_type": "execute_result",
     "data": {
      "text/plain": "<tf.Tensor: shape=(3, 4, 1), dtype=float32, numpy=\narray([[[0.],\n        [0.],\n        [1.],\n        [1.]],\n\n       [[0.],\n        [0.],\n        [0.],\n        [1.]],\n\n       [[0.],\n        [1.],\n        [1.],\n        [1.]]], dtype=float32)>"
     },
     "metadata": {},
     "execution_count": 51
    }
   ],
   "source": [
    "p(a)"
   ]
  },
  {
   "cell_type": "code",
   "execution_count": 28,
   "metadata": {},
   "outputs": [
    {
     "output_type": "execute_result",
     "data": {
      "text/plain": "tf.int32"
     },
     "metadata": {},
     "execution_count": 28
    }
   ],
   "source": [
    "a.dtype"
   ]
  },
  {
   "cell_type": "code",
   "execution_count": 11,
   "metadata": {
    "tags": []
   },
   "outputs": [
    {
     "output_type": "stream",
     "name": "stderr",
     "text": "2020-10-06 19:41:18.716051: I tensorflow/stream_executor/platform/default/dso_loader.cc:48] Successfully opened dynamic library cudart64_101.dll\n2020-10-06 19:41:26.750148: I tensorflow/stream_executor/platform/default/dso_loader.cc:48] Successfully opened dynamic library nvcuda.dll\n2020-10-06 19:41:26.750885: I tensorflow/core/common_runtime/gpu/gpu_device.cc:1716] Found device 0 with properties: \npciBusID: 0000:02:00.0 name: GeForce MX250 computeCapability: 6.1\ncoreClock: 1.582GHz coreCount: 3 deviceMemorySize: 2.00GiB deviceMemoryBandwidth: 52.21GiB/s\n2020-10-06 19:41:26.751543: I tensorflow/stream_executor/platform/default/dso_loader.cc:48] Successfully opened dynamic library cudart64_101.dll\n2020-10-06 19:41:26.751882: I tensorflow/stream_executor/platform/default/dso_loader.cc:48] Successfully opened dynamic library cublas64_10.dll\n2020-10-06 19:41:26.752374: I tensorflow/stream_executor/platform/default/dso_loader.cc:48] Successfully opened dynamic library cufft64_10.dll\n2020-10-06 19:41:26.752934: I tensorflow/stream_executor/platform/default/dso_loader.cc:48] Successfully opened dynamic library curand64_10.dll\n2020-10-06 19:41:26.758229: I tensorflow/stream_executor/platform/default/dso_loader.cc:48] Successfully opened dynamic library cusolver64_10.dll\n2020-10-06 19:41:26.758612: I tensorflow/stream_executor/platform/default/dso_loader.cc:48] Successfully opened dynamic library cusparse64_10.dll\n2020-10-06 19:41:26.758983: I tensorflow/stream_executor/platform/default/dso_loader.cc:48] Successfully opened dynamic library cudnn64_7.dll\n2020-10-06 19:41:26.760192: I tensorflow/core/common_runtime/gpu/gpu_device.cc:1858] Adding visible gpu devices: 0\n2020-10-06 19:41:26.760898: I tensorflow/core/platform/cpu_feature_guard.cc:142] This TensorFlow binary is optimized with oneAPI Deep Neural Network Library (oneDNN)to use the following CPU instructions in performance-critical operations:  AVX2\nTo enable them in other operations, rebuild TensorFlow with the appropriate compiler flags.\n2020-10-06 19:41:26.771598: I tensorflow/compiler/xla/service/service.cc:168] XLA service 0x1e43fef0800 initialized for platform Host (this does not guarantee that XLA will be used). Devices:\n2020-10-06 19:41:26.772283: I tensorflow/compiler/xla/service/service.cc:176]   StreamExecutor device (0): Host, Default Version\n2020-10-06 19:41:26.773233: I tensorflow/core/common_runtime/gpu/gpu_device.cc:1716] Found device 0 with properties: \npciBusID: 0000:02:00.0 name: GeForce MX250 computeCapability: 6.1\ncoreClock: 1.582GHz coreCount: 3 deviceMemorySize: 2.00GiB deviceMemoryBandwidth: 52.21GiB/s\n2020-10-06 19:41:26.773903: I tensorflow/stream_executor/platform/default/dso_loader.cc:48] Successfully opened dynamic library cudart64_101.dll\n2020-10-06 19:41:26.774239: I tensorflow/stream_executor/platform/default/dso_loader.cc:48] Successfully opened dynamic library cublas64_10.dll\n2020-10-06 19:41:26.774572: I tensorflow/stream_executor/platform/default/dso_loader.cc:48] Successfully opened dynamic library cufft64_10.dll\n2020-10-06 19:41:26.774901: I tensorflow/stream_executor/platform/default/dso_loader.cc:48] Successfully opened dynamic library curand64_10.dll\n2020-10-06 19:41:26.775234: I tensorflow/stream_executor/platform/default/dso_loader.cc:48] Successfully opened dynamic library cusolver64_10.dll\n2020-10-06 19:41:26.775568: I tensorflow/stream_executor/platform/default/dso_loader.cc:48] Successfully opened dynamic library cusparse64_10.dll\n2020-10-06 19:41:26.775905: I tensorflow/stream_executor/platform/default/dso_loader.cc:48] Successfully opened dynamic library cudnn64_7.dll\n2020-10-06 19:41:26.776811: I tensorflow/core/common_runtime/gpu/gpu_device.cc:1858] Adding visible gpu devices: 0\n2020-10-06 19:41:27.473755: I tensorflow/core/common_runtime/gpu/gpu_device.cc:1257] Device interconnect StreamExecutor with strength 1 edge matrix:\n2020-10-06 19:41:27.474180: I tensorflow/core/common_runtime/gpu/gpu_device.cc:1263]      0 \n2020-10-06 19:41:27.474403: I tensorflow/core/common_runtime/gpu/gpu_device.cc:1276] 0:   N \n2020-10-06 19:41:27.475270: I tensorflow/core/common_runtime/gpu/gpu_device.cc:1402] Created TensorFlow device (/job:localhost/replica:0/task:0/device:GPU:0 with 1342 MB memory) -> physical GPU (device: 0, name: GeForce MX250, pci bus id: 0000:02:00.0, compute capability: 6.1)\n2020-10-06 19:41:27.478943: I tensorflow/compiler/xla/service/service.cc:168] XLA service 0x1e45fe4bdb0 initialized for platform CUDA (this does not guarantee that XLA will be used). Devices:\n2020-10-06 19:41:27.479397: I tensorflow/compiler/xla/service/service.cc:176]   StreamExecutor device (0): GeForce MX250, Compute Capability 6.1\nTraceback (most recent call last):\n  File \"train.py\", line 170, in <module>\n    main()\n  File \"train.py\", line 165, in main\n    train(e2e_model, train_data, optimizer, opt, ckpt_manager)\n  File \"train.py\", line 70, in train\n    train_step(model, x)\n  File \"C:\\Users\\Pritam Dey\\AppData\\Local\\Programs\\Python\\Python38\\lib\\site-packages\\tensorflow\\python\\eager\\def_function.py\", line 780, in __call__\n    result = self._call(*args, **kwds)\n  File \"C:\\Users\\Pritam Dey\\AppData\\Local\\Programs\\Python\\Python38\\lib\\site-packages\\tensorflow\\python\\eager\\def_function.py\", line 823, in _call\n    self._initialize(args, kwds, add_initializers_to=initializers)\n  File \"C:\\Users\\Pritam Dey\\AppData\\Local\\Programs\\Python\\Python38\\lib\\site-packages\\tensorflow\\python\\eager\\def_function.py\", line 696, in _initialize\n    self._stateful_fn._get_concrete_function_internal_garbage_collected(  # pylint: disable=protected-access\n  File \"C:\\Users\\Pritam Dey\\AppData\\Local\\Programs\\Python\\Python38\\lib\\site-packages\\tensorflow\\python\\eager\\function.py\", line 2855, in _get_concrete_function_internal_garbage_collected\n    graph_function, _, _ = self._maybe_define_function(args, kwargs)\n  File \"C:\\Users\\Pritam Dey\\AppData\\Local\\Programs\\Python\\Python38\\lib\\site-packages\\tensorflow\\python\\eager\\function.py\", line 3213, in _maybe_define_function\n    graph_function = self._create_graph_function(args, kwargs)\n  File \"C:\\Users\\Pritam Dey\\AppData\\Local\\Programs\\Python\\Python38\\lib\\site-packages\\tensorflow\\python\\eager\\function.py\", line 3065, in _create_graph_function\n    func_graph_module.func_graph_from_py_func(\n  File \"C:\\Users\\Pritam Dey\\AppData\\Local\\Programs\\Python\\Python38\\lib\\site-packages\\tensorflow\\python\\framework\\func_graph.py\", line 986, in func_graph_from_py_func\n    func_outputs = python_func(*func_args, **func_kwargs)\n  File \"C:\\Users\\Pritam Dey\\AppData\\Local\\Programs\\Python\\Python38\\lib\\site-packages\\tensorflow\\python\\eager\\def_function.py\", line 600, in wrapped_fn\n    return weak_wrapped_fn().__wrapped__(*args, **kwds)\n  File \"C:\\Users\\Pritam Dey\\AppData\\Local\\Programs\\Python\\Python38\\lib\\site-packages\\tensorflow\\python\\framework\\func_graph.py\", line 973, in wrapper\n    raise e.ag_error_metadata.to_exception(e)\nTypeError: in user code:\n\n\n    TypeError: tf__train_step() missing 3 required positional arguments: 'train_loss', 'train_accuracy', and 'optimizer'\n\n"
    }
   ],
   "source": [
    "!python train.py -train_path cleaned-data/test-fixed.csv -epoch 2 -b 32 -d_inner_hid=64 -embedding dummy_embed.npy -n_heads 2 -n_dec_layers 3"
   ]
  },
  {
   "cell_type": "code",
   "execution_count": null,
   "metadata": {},
   "outputs": [],
   "source": []
  }
 ]
}