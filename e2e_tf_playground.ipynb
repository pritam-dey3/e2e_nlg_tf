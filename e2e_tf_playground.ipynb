{
 "metadata": {
  "language_info": {
   "codemirror_mode": {
    "name": "ipython",
    "version": 3
   },
   "file_extension": ".py",
   "mimetype": "text/x-python",
   "name": "python",
   "nbconvert_exporter": "python",
   "pygments_lexer": "ipython3",
   "version": "3.8.6-final"
  },
  "orig_nbformat": 2,
  "kernelspec": {
   "name": "Python 3.8.6 64-bit",
   "display_name": "Python 3.8.6 64-bit",
   "metadata": {
    "interpreter": {
     "hash": "0baf2b3c2365098d4c79d0bccf55c21467c9a4f83b1bde2d272de8a035024150"
    }
   }
  }
 },
 "nbformat": 4,
 "nbformat_minor": 2,
 "cells": [
  {
   "cell_type": "code",
   "execution_count": 1,
   "metadata": {},
   "outputs": [],
   "source": [
    "import numpy as np\n",
    "import pandas as pd\n",
    "import tensorflow as tf\n",
    "from tensorflow import keras\n",
    "\n",
    "import re\n",
    "from matplotlib import pyplot as plt\n",
    "from tqdm import tqdm"
   ]
  },
  {
   "cell_type": "code",
   "execution_count": 4,
   "metadata": {},
   "outputs": [
    {
     "output_type": "execute_result",
     "data": {
      "text/plain": [
       "                                                  mr  \\\n",
       "0  name[Blue Spice], eatType[coffee shop], area[c...   \n",
       "1  name[Blue Spice], eatType[coffee shop], area[c...   \n",
       "2  name[Blue Spice], eatType[coffee shop], area[r...   \n",
       "3  name[Blue Spice], eatType[coffee shop], area[r...   \n",
       "4  name[Blue Spice], eatType[coffee shop], custom...   \n",
       "\n",
       "                                                 ref  \n",
       "0  A coffee shop in the city centre area called B...  \n",
       "1        Blue Spice is a coffee shop in city centre.  \n",
       "2  There is a coffee shop Blue Spice in the river...  \n",
       "3  At the riverside, there is a coffee shop calle...  \n",
       "4  The coffee shop Blue Spice is based near Crown...  "
      ],
      "text/html": "<div>\n<style scoped>\n    .dataframe tbody tr th:only-of-type {\n        vertical-align: middle;\n    }\n\n    .dataframe tbody tr th {\n        vertical-align: top;\n    }\n\n    .dataframe thead th {\n        text-align: right;\n    }\n</style>\n<table border=\"1\" class=\"dataframe\">\n  <thead>\n    <tr style=\"text-align: right;\">\n      <th></th>\n      <th>mr</th>\n      <th>ref</th>\n    </tr>\n  </thead>\n  <tbody>\n    <tr>\n      <th>0</th>\n      <td>name[Blue Spice], eatType[coffee shop], area[c...</td>\n      <td>A coffee shop in the city centre area called B...</td>\n    </tr>\n    <tr>\n      <th>1</th>\n      <td>name[Blue Spice], eatType[coffee shop], area[c...</td>\n      <td>Blue Spice is a coffee shop in city centre.</td>\n    </tr>\n    <tr>\n      <th>2</th>\n      <td>name[Blue Spice], eatType[coffee shop], area[r...</td>\n      <td>There is a coffee shop Blue Spice in the river...</td>\n    </tr>\n    <tr>\n      <th>3</th>\n      <td>name[Blue Spice], eatType[coffee shop], area[r...</td>\n      <td>At the riverside, there is a coffee shop calle...</td>\n    </tr>\n    <tr>\n      <th>4</th>\n      <td>name[Blue Spice], eatType[coffee shop], custom...</td>\n      <td>The coffee shop Blue Spice is based near Crown...</td>\n    </tr>\n  </tbody>\n</table>\n</div>"
     },
     "metadata": {},
     "execution_count": 4
    }
   ],
   "source": [
    "df = pd.read_csv('cleaned-data/test-fixed.csv', header=0, usecols=[0,1])\n",
    "df.head()"
   ]
  },
  {
   "cell_type": "code",
   "execution_count": 3,
   "metadata": {},
   "outputs": [
    {
     "output_type": "execute_result",
     "data": {
      "text/plain": "mr     name[Blue Spice], eatType[coffee shop], area[c...\nref    A coffee shop in the city centre area called B...\nName: 0, dtype: object"
     },
     "metadata": {},
     "execution_count": 3
    }
   ],
   "source": [
    "df.iloc[0, :]"
   ]
  },
  {
   "cell_type": "code",
   "execution_count": 9,
   "metadata": {
    "tags": []
   },
   "outputs": [
    {
     "output_type": "stream",
     "name": "stderr",
     "text": "  0%|          | 10/4693 [00:00&lt;00:01, 2442.24it/s]\n"
    }
   ],
   "source": [
    "for i in tqdm(range(len(df))):\n",
    "    mr, text = df.iloc[i,:]\n",
    "    if i==10: break"
   ]
  },
  {
   "cell_type": "code",
   "execution_count": 4,
   "metadata": {},
   "outputs": [],
   "source": [
    "train_data = tf.data.experimental.CsvDataset(filenames='cleaned-data/train-fixed.no-ol.csv', \n",
    "                                record_defaults=[tf.string, tf.string],\n",
    "                                header=True,\n",
    "                                select_cols=[0, 1])"
   ]
  },
  {
   "cell_type": "code",
   "execution_count": null,
   "metadata": {
    "tags": []
   },
   "outputs": [],
   "source": [
    "for i, d in enumerate(train_data):\n",
    "    if i > 1:\n",
    "        break\n",
    "    print(d)"
   ]
  },
  {
   "cell_type": "code",
   "execution_count": 12,
   "metadata": {},
   "outputs": [
    {
     "output_type": "execute_result",
     "data": {
      "text/plain": "12"
     },
     "metadata": {},
     "execution_count": 12
    }
   ],
   "source": [
    "from transformers import AutoTokenizer, AutoModelWithLMHead\n",
    "\n",
    "tokenizer = AutoTokenizer.from_pretrained(\"t5-small\")\n",
    "\n",
    "special_tokens = {'additional_special_tokens': ['<area>', '<eatType>', '<food>', '<near>',                                                      '<name>', '<customer rating>', '<priceRange>',                                                   '<familyFriendly>', '<notfamilyFriendly>',                                                       '<cr_slot>', '<pr_slot>', '<sos>']}\n",
    "tokenizer.add_special_tokens(special_tokens)"
   ]
  },
  {
   "cell_type": "code",
   "execution_count": 14,
   "metadata": {},
   "outputs": [
    {
     "output_type": "execute_result",
     "data": {
      "text/plain": "32111"
     },
     "metadata": {},
     "execution_count": 14
    }
   ],
   "source": [
    "tokenizer.convert_tokens_to_ids('</s>')"
   ]
  },
  {
   "cell_type": "code",
   "execution_count": 5,
   "metadata": {},
   "outputs": [
    {
     "output_type": "stream",
     "name": "stderr",
     "text": [
      "usage: ipykernel_launcher [-h] [-train_path TRAIN_PATH] [-val_path VAL_PATH]\n                          [-epoch EPOCH] [-b BATCH_SIZE] [-d_model D_MODEL]\n                          [-d_inner_hid D_INNER_HID] [-embedding EMBEDDING]\n                          [-n_heads N_HEADS] [-n_enc_layers N_ENC_LAYERS]\n                          [-n_dec_layers N_DEC_LAYERS] [-max_len MAX_LEN]\n                          [-warmup N_WARMUP_STEPS] [-pad_idx PAD_IDX]\n                          [-dropout DROPOUT] [-buffer BUFFER]\nipykernel_launcher: error: unrecognized arguments: --ip=127.0.0.1 --stdin=9003 --control=9001 --hb=9000 --Session.signature_scheme=\"hmac-sha256\" --Session.key=b\"611ddd5c-8bda-4537-b9a6-c44f07f0dbb0\" --shell=9002 --transport=\"tcp\" --iopub=9004 --f=C:\\Users\\PRITAM~1\\AppData\\Local\\Temp\\tmp-2492N6sVApzOX7J8.json\n"
     ]
    },
    {
     "output_type": "error",
     "ename": "SystemExit",
     "evalue": "2",
     "traceback": [
      "An exception has occurred, use %tb to see the full traceback.\n",
      "\u001b[1;31mSystemExit\u001b[0m\u001b[1;31m:\u001b[0m 2\n"
     ]
    }
   ],
   "source": [
    "from evaluate import evaluate\n",
    "from data_preprocessing import preprocessing_py_func\n",
    "\n"
   ]
  },
  {
   "cell_type": "code",
   "execution_count": null,
   "metadata": {},
   "outputs": [],
   "source": []
  }
 ]
}