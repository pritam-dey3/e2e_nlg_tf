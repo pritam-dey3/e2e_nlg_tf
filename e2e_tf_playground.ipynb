{
 "metadata": {
  "language_info": {
   "codemirror_mode": {
    "name": "ipython",
    "version": 3
   },
   "file_extension": ".py",
   "mimetype": "text/x-python",
   "name": "python",
   "nbconvert_exporter": "python",
   "pygments_lexer": "ipython3",
   "version": "3.8.6-final"
  },
  "orig_nbformat": 2,
  "kernelspec": {
   "name": "Python 3.8.6 64-bit",
   "display_name": "Python 3.8.6 64-bit",
   "metadata": {
    "interpreter": {
     "hash": "0baf2b3c2365098d4c79d0bccf55c21467c9a4f83b1bde2d272de8a035024150"
    }
   }
  }
 },
 "nbformat": 4,
 "nbformat_minor": 2,
 "cells": [
  {
   "cell_type": "code",
   "execution_count": 5,
   "metadata": {},
   "outputs": [],
   "source": [
    "import numpy as np\n",
    "import pandas as pd\n",
    "import tensorflow as tf\n",
    "from tensorflow import keras\n",
    "\n",
    "import re\n",
    "from matplotlib import pyplot as plt\n",
    "from tqdm import tqdm"
   ]
  },
  {
   "cell_type": "code",
   "execution_count": 6,
   "metadata": {},
   "outputs": [
    {
     "output_type": "execute_result",
     "data": {
      "text/plain": "                                                  mr  \\\n0  name[Blue Spice], eatType[coffee shop], area[c...   \n1  name[Blue Spice], eatType[coffee shop], area[c...   \n2  name[Blue Spice], eatType[coffee shop], area[r...   \n3  name[Blue Spice], eatType[coffee shop], area[r...   \n4  name[Blue Spice], eatType[coffee shop], custom...   \n\n                                                 ref  \n0  A coffee shop in the city centre area called B...  \n1        Blue Spice is a coffee shop in city centre.  \n2  There is a coffee shop Blue Spice in the river...  \n3  At the riverside, there is a coffee shop calle...  \n4  The coffee shop Blue Spice is based near Crown...  ",
      "text/html": "<div>\n<style scoped>\n    .dataframe tbody tr th:only-of-type {\n        vertical-align: middle;\n    }\n\n    .dataframe tbody tr th {\n        vertical-align: top;\n    }\n\n    .dataframe thead th {\n        text-align: right;\n    }\n</style>\n<table border=\"1\" class=\"dataframe\">\n  <thead>\n    <tr style=\"text-align: right;\">\n      <th></th>\n      <th>mr</th>\n      <th>ref</th>\n    </tr>\n  </thead>\n  <tbody>\n    <tr>\n      <th>0</th>\n      <td>name[Blue Spice], eatType[coffee shop], area[c...</td>\n      <td>A coffee shop in the city centre area called B...</td>\n    </tr>\n    <tr>\n      <th>1</th>\n      <td>name[Blue Spice], eatType[coffee shop], area[c...</td>\n      <td>Blue Spice is a coffee shop in city centre.</td>\n    </tr>\n    <tr>\n      <th>2</th>\n      <td>name[Blue Spice], eatType[coffee shop], area[r...</td>\n      <td>There is a coffee shop Blue Spice in the river...</td>\n    </tr>\n    <tr>\n      <th>3</th>\n      <td>name[Blue Spice], eatType[coffee shop], area[r...</td>\n      <td>At the riverside, there is a coffee shop calle...</td>\n    </tr>\n    <tr>\n      <th>4</th>\n      <td>name[Blue Spice], eatType[coffee shop], custom...</td>\n      <td>The coffee shop Blue Spice is based near Crown...</td>\n    </tr>\n  </tbody>\n</table>\n</div>"
     },
     "metadata": {},
     "execution_count": 6
    }
   ],
   "source": [
    "df = pd.read_csv('cleaned-data/test-fixed.csv', header=0, usecols=[0,1])\n",
    "df.head()"
   ]
  },
  {
   "cell_type": "code",
   "execution_count": 3,
   "metadata": {},
   "outputs": [
    {
     "output_type": "execute_result",
     "data": {
      "text/plain": "mr     name[Blue Spice], eatType[coffee shop], area[c...\nref    A coffee shop in the city centre area called B...\nName: 0, dtype: object"
     },
     "metadata": {},
     "execution_count": 3
    }
   ],
   "source": [
    "df.iloc[0, :]"
   ]
  },
  {
   "cell_type": "code",
   "execution_count": 9,
   "metadata": {
    "tags": []
   },
   "outputs": [
    {
     "output_type": "stream",
     "name": "stderr",
     "text": "  0%|          | 10/4693 [00:00&lt;00:01, 2442.24it/s]\n"
    }
   ],
   "source": [
    "for i in tqdm(range(len(df))):\n",
    "    mr, text = df.iloc[i,:]\n",
    "    if i==10: break"
   ]
  },
  {
   "cell_type": "code",
   "execution_count": 4,
   "metadata": {},
   "outputs": [],
   "source": [
    "train_data = tf.data.experimental.CsvDataset(filenames='cleaned-data/train-fixed.no-ol.csv', \n",
    "                                record_defaults=[tf.string, tf.string],\n",
    "                                header=True,\n",
    "                                select_cols=[0, 1])"
   ]
  },
  {
   "cell_type": "code",
   "execution_count": null,
   "metadata": {
    "tags": []
   },
   "outputs": [],
   "source": [
    "for i, d in enumerate(train_data):\n",
    "    if i > 1:\n",
    "        break\n",
    "    print(d)"
   ]
  },
  {
   "cell_type": "code",
   "execution_count": 12,
   "metadata": {},
   "outputs": [
    {
     "output_type": "execute_result",
     "data": {
      "text/plain": "12"
     },
     "metadata": {},
     "execution_count": 12
    }
   ],
   "source": [
    "from transformers import AutoTokenizer, AutoModelWithLMHead\n",
    "\n",
    "tokenizer = AutoTokenizer.from_pretrained(\"t5-small\")\n",
    "\n",
    "special_tokens = {'additional_special_tokens': ['<area>', '<eatType>', '<food>', '<near>',                                                      '<name>', '<customer rating>', '<priceRange>',                                                   '<familyFriendly>', '<notfamilyFriendly>',                                                       '<cr_slot>', '<pr_slot>', '<sos>']}\n",
    "tokenizer.add_special_tokens(special_tokens)"
   ]
  },
  {
   "cell_type": "code",
   "execution_count": 14,
   "metadata": {},
   "outputs": [
    {
     "output_type": "execute_result",
     "data": {
      "text/plain": "32111"
     },
     "metadata": {},
     "execution_count": 14
    }
   ],
   "source": [
    "tokenizer.convert_tokens_to_ids('</s>')"
   ]
  },
  {
   "cell_type": "code",
   "execution_count": 54,
   "metadata": {
    "tags": []
   },
   "outputs": [
    {
     "output_type": "stream",
     "name": "stdout",
     "text": "tf.Tensor(\n[[[2. 2. 2. 2.]\n  [2. 2. 2. 2.]\n  [1. 1. 1. 1.]\n  [1. 1. 1. 1.]]\n\n [[2. 2. 2. 2.]\n  [2. 2. 2. 2.]\n  [2. 2. 2. 2.]\n  [1. 1. 1. 1.]]\n\n [[2. 2. 2. 2.]\n  [1. 1. 1. 1.]\n  [1. 1. 1. 1.]\n  [1. 1. 1. 1.]]], shape=(3, 4, 4), dtype=float32)\n"
    }
   ],
   "source": [
    "def p(x):\n",
    "    seq = tf.cast(tf.logical_not(tf.math.equal(x, 0)), tf.float32)\n",
    "    return seq[:, :, tf.newaxis]\n",
    "\n",
    "a = tf.constant([[1, 2, 0, 0], [1, 2, 9, 0],[1, 0, 0, 0]])\n",
    "b = tf.constant([[6, 5, 3, 8], [6, 5, 3, 8], [6, 5, 3, 8]])\n",
    "init = tf.keras.initializers.Constant(tf.ones((10, 4), tf.float32))\n",
    "emb = tf.keras.layers.Embedding(10, 4, embeddings_initializer=init)\n",
    "\n",
    "print(emb(b) + tf.multiply(emb(a), p(a)))"
   ]
  },
  {
   "cell_type": "code",
   "execution_count": 51,
   "metadata": {
    "tags": []
   },
   "outputs": [
    {
     "output_type": "execute_result",
     "data": {
      "text/plain": "<tf.Tensor: shape=(3, 4, 1), dtype=float32, numpy=\narray([[[0.],\n        [0.],\n        [1.],\n        [1.]],\n\n       [[0.],\n        [0.],\n        [0.],\n        [1.]],\n\n       [[0.],\n        [1.],\n        [1.],\n        [1.]]], dtype=float32)>"
     },
     "metadata": {},
     "execution_count": 51
    }
   ],
   "source": [
    "p(a)"
   ]
  },
  {
   "cell_type": "code",
   "execution_count": 28,
   "metadata": {},
   "outputs": [
    {
     "output_type": "execute_result",
     "data": {
      "text/plain": "tf.int32"
     },
     "metadata": {},
     "execution_count": 28
    }
   ],
   "source": [
    "a.dtype"
   ]
  },
  {
   "cell_type": "code",
   "execution_count": 11,
   "metadata": {
    "tags": []
   },
   "outputs": [
    {
     "output_type": "stream",
     "name": "stderr",
     "text": "2020-10-06 19:41:18.716051: I tensorflow/stream_executor/platform/default/dso_loader.cc:48] Successfully opened dynamic library cudart64_101.dll\n2020-10-06 19:41:26.750148: I tensorflow/stream_executor/platform/default/dso_loader.cc:48] Successfully opened dynamic library nvcuda.dll\n2020-10-06 19:41:26.750885: I tensorflow/core/common_runtime/gpu/gpu_device.cc:1716] Found device 0 with properties: \npciBusID: 0000:02:00.0 name: GeForce MX250 computeCapability: 6.1\ncoreClock: 1.582GHz coreCount: 3 deviceMemorySize: 2.00GiB deviceMemoryBandwidth: 52.21GiB/s\n2020-10-06 19:41:26.751543: I tensorflow/stream_executor/platform/default/dso_loader.cc:48] Successfully opened dynamic library cudart64_101.dll\n2020-10-06 19:41:26.751882: I tensorflow/stream_executor/platform/default/dso_loader.cc:48] Successfully opened dynamic library cublas64_10.dll\n2020-10-06 19:41:26.752374: I tensorflow/stream_executor/platform/default/dso_loader.cc:48] Successfully opened dynamic library cufft64_10.dll\n2020-10-06 19:41:26.752934: I tensorflow/stream_executor/platform/default/dso_loader.cc:48] Successfully opened dynamic library curand64_10.dll\n2020-10-06 19:41:26.758229: I tensorflow/stream_executor/platform/default/dso_loader.cc:48] Successfully opened dynamic library cusolver64_10.dll\n2020-10-06 19:41:26.758612: I tensorflow/stream_executor/platform/default/dso_loader.cc:48] Successfully opened dynamic library cusparse64_10.dll\n2020-10-06 19:41:26.758983: I tensorflow/stream_executor/platform/default/dso_loader.cc:48] Successfully opened dynamic library cudnn64_7.dll\n2020-10-06 19:41:26.760192: I tensorflow/core/common_runtime/gpu/gpu_device.cc:1858] Adding visible gpu devices: 0\n2020-10-06 19:41:26.760898: I tensorflow/core/platform/cpu_feature_guard.cc:142] This TensorFlow binary is optimized with oneAPI Deep Neural Network Library (oneDNN)to use the following CPU instructions in performance-critical operations:  AVX2\nTo enable them in other operations, rebuild TensorFlow with the appropriate compiler flags.\n2020-10-06 19:41:26.771598: I tensorflow/compiler/xla/service/service.cc:168] XLA service 0x1e43fef0800 initialized for platform Host (this does not guarantee that XLA will be used). Devices:\n2020-10-06 19:41:26.772283: I tensorflow/compiler/xla/service/service.cc:176]   StreamExecutor device (0): Host, Default Version\n2020-10-06 19:41:26.773233: I tensorflow/core/common_runtime/gpu/gpu_device.cc:1716] Found device 0 with properties: \npciBusID: 0000:02:00.0 name: GeForce MX250 computeCapability: 6.1\ncoreClock: 1.582GHz coreCount: 3 deviceMemorySize: 2.00GiB deviceMemoryBandwidth: 52.21GiB/s\n2020-10-06 19:41:26.773903: I tensorflow/stream_executor/platform/default/dso_loader.cc:48] Successfully opened dynamic library cudart64_101.dll\n2020-10-06 19:41:26.774239: I tensorflow/stream_executor/platform/default/dso_loader.cc:48] Successfully opened dynamic library cublas64_10.dll\n2020-10-06 19:41:26.774572: I tensorflow/stream_executor/platform/default/dso_loader.cc:48] Successfully opened dynamic library cufft64_10.dll\n2020-10-06 19:41:26.774901: I tensorflow/stream_executor/platform/default/dso_loader.cc:48] Successfully opened dynamic library curand64_10.dll\n2020-10-06 19:41:26.775234: I tensorflow/stream_executor/platform/default/dso_loader.cc:48] Successfully opened dynamic library cusolver64_10.dll\n2020-10-06 19:41:26.775568: I tensorflow/stream_executor/platform/default/dso_loader.cc:48] Successfully opened dynamic library cusparse64_10.dll\n2020-10-06 19:41:26.775905: I tensorflow/stream_executor/platform/default/dso_loader.cc:48] Successfully opened dynamic library cudnn64_7.dll\n2020-10-06 19:41:26.776811: I tensorflow/core/common_runtime/gpu/gpu_device.cc:1858] Adding visible gpu devices: 0\n2020-10-06 19:41:27.473755: I tensorflow/core/common_runtime/gpu/gpu_device.cc:1257] Device interconnect StreamExecutor with strength 1 edge matrix:\n2020-10-06 19:41:27.474180: I tensorflow/core/common_runtime/gpu/gpu_device.cc:1263]      0 \n2020-10-06 19:41:27.474403: I tensorflow/core/common_runtime/gpu/gpu_device.cc:1276] 0:   N \n2020-10-06 19:41:27.475270: I tensorflow/core/common_runtime/gpu/gpu_device.cc:1402] Created TensorFlow device (/job:localhost/replica:0/task:0/device:GPU:0 with 1342 MB memory) -> physical GPU (device: 0, name: GeForce MX250, pci bus id: 0000:02:00.0, compute capability: 6.1)\n2020-10-06 19:41:27.478943: I tensorflow/compiler/xla/service/service.cc:168] XLA service 0x1e45fe4bdb0 initialized for platform CUDA (this does not guarantee that XLA will be used). Devices:\n2020-10-06 19:41:27.479397: I tensorflow/compiler/xla/service/service.cc:176]   StreamExecutor device (0): GeForce MX250, Compute Capability 6.1\nTraceback (most recent call last):\n  File \"train.py\", line 170, in <module>\n    main()\n  File \"train.py\", line 165, in main\n    train(e2e_model, train_data, optimizer, opt, ckpt_manager)\n  File \"train.py\", line 70, in train\n    train_step(model, x)\n  File \"C:\\Users\\Pritam Dey\\AppData\\Local\\Programs\\Python\\Python38\\lib\\site-packages\\tensorflow\\python\\eager\\def_function.py\", line 780, in __call__\n    result = self._call(*args, **kwds)\n  File \"C:\\Users\\Pritam Dey\\AppData\\Local\\Programs\\Python\\Python38\\lib\\site-packages\\tensorflow\\python\\eager\\def_function.py\", line 823, in _call\n    self._initialize(args, kwds, add_initializers_to=initializers)\n  File \"C:\\Users\\Pritam Dey\\AppData\\Local\\Programs\\Python\\Python38\\lib\\site-packages\\tensorflow\\python\\eager\\def_function.py\", line 696, in _initialize\n    self._stateful_fn._get_concrete_function_internal_garbage_collected(  # pylint: disable=protected-access\n  File \"C:\\Users\\Pritam Dey\\AppData\\Local\\Programs\\Python\\Python38\\lib\\site-packages\\tensorflow\\python\\eager\\function.py\", line 2855, in _get_concrete_function_internal_garbage_collected\n    graph_function, _, _ = self._maybe_define_function(args, kwargs)\n  File \"C:\\Users\\Pritam Dey\\AppData\\Local\\Programs\\Python\\Python38\\lib\\site-packages\\tensorflow\\python\\eager\\function.py\", line 3213, in _maybe_define_function\n    graph_function = self._create_graph_function(args, kwargs)\n  File \"C:\\Users\\Pritam Dey\\AppData\\Local\\Programs\\Python\\Python38\\lib\\site-packages\\tensorflow\\python\\eager\\function.py\", line 3065, in _create_graph_function\n    func_graph_module.func_graph_from_py_func(\n  File \"C:\\Users\\Pritam Dey\\AppData\\Local\\Programs\\Python\\Python38\\lib\\site-packages\\tensorflow\\python\\framework\\func_graph.py\", line 986, in func_graph_from_py_func\n    func_outputs = python_func(*func_args, **func_kwargs)\n  File \"C:\\Users\\Pritam Dey\\AppData\\Local\\Programs\\Python\\Python38\\lib\\site-packages\\tensorflow\\python\\eager\\def_function.py\", line 600, in wrapped_fn\n    return weak_wrapped_fn().__wrapped__(*args, **kwds)\n  File \"C:\\Users\\Pritam Dey\\AppData\\Local\\Programs\\Python\\Python38\\lib\\site-packages\\tensorflow\\python\\framework\\func_graph.py\", line 973, in wrapper\n    raise e.ag_error_metadata.to_exception(e)\nTypeError: in user code:\n\n\n    TypeError: tf__train_step() missing 3 required positional arguments: 'train_loss', 'train_accuracy', and 'optimizer'\n\n"
    }
   ],
   "source": [
    "!python train.py -train_path cleaned-data/train-fixed.no-ol.csv -epoch 50 -b 128 -buffer 10000"
   ]
  },
  {
   "cell_type": "code",
   "execution_count": null,
   "metadata": {},
   "outputs": [],
   "source": []
  }
 ]
}